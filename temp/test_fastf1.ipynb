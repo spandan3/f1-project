{
 "cells": [
  {
   "cell_type": "code",
   "execution_count": null,
   "id": "9b4939b0-3906-4209-b323-b199967f060a",
   "metadata": {},
   "outputs": [],
   "source": [
    "import fastf1\n",
    "from fastf1 import plotting\n",
    "import matplotlib.pyplot as plt"
   ]
  },
  {
   "cell_type": "code",
   "execution_count": null,
   "id": "2b697db4",
   "metadata": {},
   "outputs": [],
   "source": [
    "fastf1.Cache.enable_cache('f1_cache')"
   ]
  },
  {
   "cell_type": "code",
   "execution_count": null,
   "id": "f414dcab",
   "metadata": {},
   "outputs": [],
   "source": [
    "session = fastf1.get_session(2023, 'Monaco', 'Q')\n",
    "session.load()"
   ]
  },
  {
   "cell_type": "code",
   "execution_count": null,
   "id": "4c41fc60",
   "metadata": {},
   "outputs": [],
   "source": [
    "print(f\"Event: {session.event['EventName']}\")\n",
    "print(f\"Date: {session.event['EventDate']}\")\n",
    "print(\"Drivers:\", session.drivers)"
   ]
  },
  {
   "cell_type": "code",
   "execution_count": null,
   "id": "7950eeae",
   "metadata": {},
   "outputs": [],
   "source": [
    "fastest_lap = session.laps.pick_fastest()\n",
    "driver_code = fastest_lap['Driver']\n",
    "lap_time = fastest_lap['LapTime']\n",
    "print(f\"Fastest lap: {driver_code} in {lap_time}\")"
   ]
  },
  {
   "cell_type": "code",
   "execution_count": null,
   "id": "bc8e1cbf",
   "metadata": {},
   "outputs": [],
   "source": [
    "plotting.setup_mpl()\n",
    "tel = session.laps.pick_driver(driver_code).pick_fastest().get_telemetry()\n",
    "plt.plot(tel['Distance'], tel['Speed'])\n",
    "plt.title(f\"{driver_code} Fastest Lap - {lap_time}\")\n",
    "plt.xlabel(\"Distance (m)\")\n",
    "plt.ylabel(\"Speed (km/h)\")\n",
    "plt.show()"
   ]
  }
 ],
 "metadata": {
  "kernelspec": {
   "display_name": ".venv",
   "language": "python",
   "name": "python3"
  },
  "language_info": {
   "codemirror_mode": {
    "name": "ipython",
    "version": 3
   },
   "file_extension": ".py",
   "mimetype": "text/x-python",
   "name": "python",
   "nbconvert_exporter": "python",
   "pygments_lexer": "ipython3",
   "version": "3.10.10"
  }
 },
 "nbformat": 4,
 "nbformat_minor": 5
}
